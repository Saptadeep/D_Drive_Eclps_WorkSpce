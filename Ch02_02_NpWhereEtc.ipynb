{
 "cells": [
  {
   "cell_type": "code",
   "execution_count": 10,
   "metadata": {
    "collapsed": false
   },
   "outputs": [
    {
     "ename": "NameError",
     "evalue": "name 'a' is not defined",
     "output_type": "error",
     "traceback": [
      "\u001b[0;31m---------------------------------------------------------------------------\u001b[0m",
      "\u001b[0;31mNameError\u001b[0m                                 Traceback (most recent call last)",
      "\u001b[0;32m<ipython-input-10-c54e2511f4cc>\u001b[0m in \u001b[0;36m<module>\u001b[0;34m()\u001b[0m\n\u001b[1;32m     14\u001b[0m \u001b[0ma\u001b[0m\u001b[1;33m\u001b[0m\u001b[0m\n\u001b[1;32m     15\u001b[0m \u001b[0mget_ipython\u001b[0m\u001b[1;33m(\u001b[0m\u001b[1;33m)\u001b[0m\u001b[1;33m.\u001b[0m\u001b[0mmagic\u001b[0m\u001b[1;33m(\u001b[0m\u001b[1;34m'reset -f'\u001b[0m\u001b[1;33m)\u001b[0m\u001b[1;33m\u001b[0m\u001b[0m\n\u001b[0;32m---> 16\u001b[0;31m \u001b[0ma\u001b[0m\u001b[1;33m\u001b[0m\u001b[0m\n\u001b[0m\u001b[1;32m     17\u001b[0m \u001b[0mframe\u001b[0m \u001b[1;33m=\u001b[0m \u001b[0mDataFrame\u001b[0m\u001b[1;33m(\u001b[0m\u001b[0mrecords\u001b[0m\u001b[1;33m)\u001b[0m\u001b[1;33m\u001b[0m\u001b[0m\n\u001b[1;32m     18\u001b[0m \u001b[0mframe\u001b[0m\u001b[1;33m[\u001b[0m\u001b[1;34m'index'\u001b[0m\u001b[1;33m]\u001b[0m \u001b[1;33m=\u001b[0m \u001b[0mframe\u001b[0m\u001b[1;33m.\u001b[0m\u001b[0mindex\u001b[0m\u001b[1;33m\u001b[0m\u001b[0m\n",
      "\u001b[0;31mNameError\u001b[0m: name 'a' is not defined"
     ]
    }
   ],
   "source": [
    "# %load D:\\Eclipse_Workspace\\PyForDataAnalysis\\Ch02_1.py\n",
    "# %load D:\\Eclipse_Workspace\\PyForDataAnalysis\\Ch02_1.py\n",
    "#%matplotlib inline\n",
    "#%pdb\n",
    "from pandas import DataFrame, Series\n",
    "import json\n",
    "import numpy as np\n",
    "#import pdb\n",
    "#pdb.set_trace()\n",
    "#path = 'D:/Eclipse_Workspace/pydata-book-master/PyForDataAnalysis_Extracted/ch02/usagov_bitly_data2012-03-16-1331923249.txt'\n",
    "path = 'D:/Eclipse_Workspace/zz1.py'\n",
    "records = [json.loads(line) for line in open(path)]\n",
    "a = 1\n",
    "a\n",
    "%reset -f\n",
    "a\n",
    "frame = DataFrame(records)\n",
    "frame['index'] = frame.index\n",
    "#print(frame['index'])\n",
    "#pdb.set_trace()\n",
    "#print(frame.index)\n",
    "#pdb.set_trace()\n",
    "#print (len(frame))\n",
    "#print (len(frame['tz']))\n",
    "\n",
    "print ('print((frame)):')\n",
    "\n",
    "print((frame))\n",
    "\n",
    "clean_tz = frame['tz'].fillna('KeyItselfMissing')\n",
    "\n",
    "print ('print (clean_tz)')\n",
    "clean_tz[clean_tz == ''] = 'KeyPresent_ValueMissing'\n",
    "print (clean_tz) #[clean_tz == ''] = 'Unknown')\n",
    "\n",
    "print (frame.fillna('KeyItselfMissing'))\n",
    "time_zones = [rec['tz'] for rec in records if 'tz' in rec]\n",
    "print(time_zones)\n",
    "\n",
    "\n",
    "from matplotlib import pyplot as plt\n",
    "import numpy\n",
    "#x = numpy.linspace(0, 1, 1000)**1.5\n",
    "#plt.hist(x);\n",
    "frame['a'].value_counts().plot(kind='bar',rot=0)\n",
    "results1 = ([x.split()[0] for x in frame.a.dropna()])\n",
    "results2 = Series([x.split()[0] for x in frame.a.dropna()])\n",
    "results1[0]\n",
    "results1[1]\n",
    "results1\n",
    "\n",
    "frame['a'].value_counts().plot(kind='bar',rot=0)\n",
    "\n"
   ]
  },
  {
   "cell_type": "code",
   "execution_count": 5,
   "metadata": {
    "collapsed": false
   },
   "outputs": [
    {
     "name": "stdout",
     "output_type": "stream",
     "text": [
      "print((frame)):\n",
      "             a        tz    z  index\n",
      "0  Col A Row 1            1.0      0\n",
      "1  Col A Row 2  Guwahati  NaN      1\n",
      "2  Col A Row 2  Guwahati  NaN      2\n",
      "print (clean_tz)\n",
      "0    KeyPresent_ValueMissing\n",
      "1                   Guwahati\n",
      "2                   Guwahati\n",
      "Name: tz, dtype: object\n",
      "             a        tz                 z  index\n",
      "0  Col A Row 1                           1      0\n",
      "1  Col A Row 2  Guwahati  KeyItselfMissing      1\n",
      "2  Col A Row 2  Guwahati  KeyItselfMissing      2\n",
      "['', 'Guwahati', 'Guwahati']\n",
      "print((frame)):\n",
      "             a        tz    z  index\n",
      "0  Col A Row 1            1.0      0\n",
      "1  Col A Row 2  Guwahati  NaN      1\n",
      "2  Col A Row 2  Guwahati  NaN      2\n",
      "print (clean_tz)\n",
      "0    KeyPresent_ValueMissing\n",
      "1                   Guwahati\n",
      "2                   Guwahati\n",
      "Name: tz, dtype: object\n",
      "             a        tz                 z  index\n",
      "0  Col A Row 1                           1      0\n",
      "1  Col A Row 2  Guwahati  KeyItselfMissing      1\n",
      "2  Col A Row 2  Guwahati  KeyItselfMissing      2\n",
      "['', 'Guwahati', 'Guwahati']\n"
     ]
    },
    {
     "data": {
      "image/png": "[encoded data removed]",
      "text/plain": [
       "<matplotlib.figure.Figure at 0x4dd3bf17f0>"
      ]
     },
     "metadata": {},
     "output_type": "display_data"
    }
   ],
   "source": [
    "# %load D:\\Eclipse_Workspace\\PyForDataAnalysis\\Ch02_1.py\n",
    "%matplotlib inline\n",
    "#%pdb\n",
    "from pandas import DataFrame, Series\n",
    "import json\n",
    "import numpy as np\n",
    "#import pdb\n",
    "#pdb.set_trace()\n",
    "#path = 'D:/Eclipse_Workspace/pydata-book-master/PyForDataAnalysis_Extracted/ch02/usagov_bitly_data2012-03-16-1331923249.txt'\n",
    "path = 'D:/Eclipse_Workspace/zz1.py'\n",
    "records = [json.loads(line) for line in open(path)]\n",
    "\n",
    "frame = DataFrame(records)\n",
    "frame['index'] = frame.index\n",
    "#print(frame['index'])\n",
    "#pdb.set_trace()\n",
    "#print(frame.index)\n",
    "#pdb.set_trace()\n",
    "#print (len(frame))\n",
    "#print (len(frame['tz']))\n",
    "\n",
    "print ('print((frame)):')\n",
    "\n",
    "print((frame))\n",
    "\n",
    "clean_tz = frame['tz'].fillna('KeyItselfMissing')\n",
    "\n",
    "print ('print (clean_tz)')\n",
    "clean_tz[clean_tz == ''] = 'KeyPresent_ValueMissing'\n",
    "print (clean_tz) #[clean_tz == ''] = 'Unknown')\n",
    "\n",
    "print (frame.fillna('KeyItselfMissing'))\n",
    "time_zones = [rec['tz'] for rec in records if 'tz' in rec]\n",
    "print(time_zones)\n",
    "\n",
    "\n",
    "from matplotlib import pyplot as plt\n",
    "import numpy\n",
    "#x = numpy.linspace(0, 1, 1000)**1.5\n",
    "#plt.hist(x);\n",
    "frame['a'].value_counts().plot(kind='bar',rot=0)\n",
    "results1 = ([x.split()[0] for x in frame.a.dropna()])\n",
    "results2 = Series([x.split()[0] for x in frame.a.dropna()])\n",
    "results1[0]\n",
    "results1[1]\n",
    "results1\n",
    "frame['a'].value_counts().plot(kind='bar',rot=0)\n",
    "%run D:\\Eclipse_Workspace\\PyForDataAnalysis\\Ch02_2.py\n",
    "?frame"
   ]
  }
 ],
 "metadata": {
  "kernelspec": {
   "display_name": "Python 3",
   "language": "python",
   "name": "python3"
  },
  "language_info": {
   "codemirror_mode": {
    "name": "ipython",
    "version": 3
   },
   "file_extension": ".py",
   "mimetype": "text/x-python",
   "name": "python",
   "nbconvert_exporter": "python",
   "pygments_lexer": "ipython3",
   "version": "3.5.2"
  }
 },
 "nbformat": 4,
 "nbformat_minor": 2
}
